{
  "nbformat": 4,
  "nbformat_minor": 0,
  "metadata": {
    "colab": {
      "name": "Clustering學習筆記.ipynb",
      "provenance": [],
      "authorship_tag": "ABX9TyOq+7RF1x3MbhbRcMcjbIRC",
      "include_colab_link": true
    },
    "kernelspec": {
      "name": "python3",
      "display_name": "Python 3"
    },
    "language_info": {
      "name": "python"
    }
  },
  "cells": [
    {
      "cell_type": "markdown",
      "metadata": {
        "id": "view-in-github",
        "colab_type": "text"
      },
      "source": [
        "<a href=\"https://colab.research.google.com/github/emily2925/machine_learning_algorithm/blob/main/Clustering%E5%AD%B8%E7%BF%92%E7%AD%86%E8%A8%98.ipynb\" target=\"_parent\"><img src=\"https://colab.research.google.com/assets/colab-badge.svg\" alt=\"Open In Colab\"/></a>"
      ]
    },
    {
      "cell_type": "markdown",
      "source": [
        "\n",
        "\n",
        "*   此筆記整理Kmeans,Hierarchy,Kmodes之原理、限制、實作程式和結果解釋\n",
        "*   Kmeans原理：https://www.youtube.com/watch?v=4b5d3muPQmA&ab_channel=StatQuestwithJoshStarmer\n",
        "*   Hierarchy原理：https://www.youtube.com/watch?v=7xHsRkOdVwo&ab_channel=StatQuestwithJoshStarmer\n",
        "*   KModes參考程式：https://www.analyticsvidhya.com/blog/2021/06/kmodes-clustering-algorithm-for-categorical-data/\n",
        "\\\n",
        "\n",
        "\n",
        "\n",
        "\n"
      ],
      "metadata": {
        "id": "gbsbcnDTq5CN"
      }
    },
    {
      "cell_type": "markdown",
      "source": [
        "**Kmeans**"
      ],
      "metadata": {
        "id": "oV7z0m48vxB-"
      }
    },
    {
      "cell_type": "markdown",
      "source": [
        "**1.原理**\n",
        "先選定k個點"
      ],
      "metadata": {
        "id": "aevjOa5Pv6sw"
      }
    },
    {
      "cell_type": "code",
      "source": [
        ""
      ],
      "metadata": {
        "id": "WRmyWFubv5ms"
      },
      "execution_count": null,
      "outputs": []
    },
    {
      "cell_type": "code",
      "source": [
        "# "
      ],
      "metadata": {
        "id": "KVuEffc8vuXe"
      },
      "execution_count": null,
      "outputs": []
    }
  ]
}